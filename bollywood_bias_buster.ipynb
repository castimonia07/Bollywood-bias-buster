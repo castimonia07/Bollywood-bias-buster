{
 "cells": [
  {
   "cell_type": "code",
   "execution_count": 3,
   "id": "df189209-153c-44b6-bef1-db51d2527b71",
   "metadata": {},
   "outputs": [
    {
     "name": "stdout",
     "output_type": "stream",
     "text": [
      "Collecting textblob\n",
      "  Downloading textblob-0.19.0-py3-none-any.whl.metadata (4.4 kB)\n",
      "Requirement already satisfied: nltk>=3.9 in c:\\anaconda3\\lib\\site-packages (from textblob) (3.9.1)\n",
      "Requirement already satisfied: click in c:\\users\\rishabh pandey\\appdata\\roaming\\python\\python312\\site-packages (from nltk>=3.9->textblob) (8.2.1)\n",
      "Requirement already satisfied: joblib in c:\\anaconda3\\lib\\site-packages (from nltk>=3.9->textblob) (1.4.2)\n",
      "Requirement already satisfied: regex>=2021.8.3 in c:\\users\\rishabh pandey\\appdata\\roaming\\python\\python312\\site-packages (from nltk>=3.9->textblob) (2024.11.6)\n",
      "Requirement already satisfied: tqdm in c:\\users\\rishabh pandey\\appdata\\roaming\\python\\python312\\site-packages (from nltk>=3.9->textblob) (4.67.1)\n",
      "Requirement already satisfied: colorama in c:\\users\\rishabh pandey\\appdata\\roaming\\python\\python312\\site-packages (from click->nltk>=3.9->textblob) (0.4.6)\n",
      "Downloading textblob-0.19.0-py3-none-any.whl (624 kB)\n",
      "   ---------------------------------------- 0.0/624.3 kB ? eta -:--:--\n",
      "   ---------------------------------------- 0.0/624.3 kB ? eta -:--:--\n",
      "   ---------------------------------------- 0.0/624.3 kB ? eta -:--:--\n",
      "   ---------------------------------------- 0.0/624.3 kB ? eta -:--:--\n",
      "   ---------------------------------------- 0.0/624.3 kB ? eta -:--:--\n",
      "   ---------------------------------------- 0.0/624.3 kB ? eta -:--:--\n",
      "   ---------------------------------------- 0.0/624.3 kB ? eta -:--:--\n",
      "   ---------------------------------------- 0.0/624.3 kB ? eta -:--:--\n",
      "   ---------------------------------------- 0.0/624.3 kB ? eta -:--:--\n",
      "   ---------------------------------------- 0.0/624.3 kB ? eta -:--:--\n",
      "   ---------------- ----------------------- 262.1/624.3 kB ? eta -:--:--\n",
      "   ---------------- ----------------------- 262.1/624.3 kB ? eta -:--:--\n",
      "   ---------------- ----------------------- 262.1/624.3 kB ? eta -:--:--\n",
      "   ---------------- ----------------------- 262.1/624.3 kB ? eta -:--:--\n",
      "   ---------------- ----------------------- 262.1/624.3 kB ? eta -:--:--\n",
      "   ------------------------------- ------ 524.3/624.3 kB 266.4 kB/s eta 0:00:01\n",
      "   -------------------------------------- 624.3/624.3 kB 282.7 kB/s eta 0:00:00\n",
      "Installing collected packages: textblob\n",
      "Successfully installed textblob-0.19.0\n"
     ]
    }
   ],
   "source": [
    "# Bollywood Bias Buster - Quick Implementation\n",
    "import pandas as pd\n",
    "import re\n",
    "!pip install textblob\n",
    "from textblob import TextBlob\n",
    "from IPython.display import display, Markdown"
   ]
  },
  {
   "cell_type": "code",
   "execution_count": 5,
   "id": "9cb6ae50-78fb-40c2-a518-8287d01e101a",
   "metadata": {},
   "outputs": [],
   "source": [
    "# Load Sample Data\n",
    "data = {\n",
    "    \"title\": [\"Kaho Naa Pyaar Hai\", \"Chak De India\"],\n",
    "    \"plot\": [\n",
    "        \"Rohit is an aspiring singer who works as a salesman. Sonia is the daughter of Mr. Saxena.\",\n",
    "        \"Kabir Khan is a former hockey player who now coaches the Indian women's national team.\"\n",
    "    ]\n",
    "}\n",
    "df = pd.DataFrame(data)"
   ]
  },
  {
   "cell_type": "code",
   "execution_count": 7,
   "id": "261a8d0b-0800-420a-9f15-56b0484b7aee",
   "metadata": {},
   "outputs": [],
   "source": [
    "# Define gender role keywords\n",
    "male_keywords = ['engineer', 'doctor', 'soldier', 'cop', 'coach', 'businessman', 'player', 'singer']\n",
    "female_keywords = ['daughter', 'wife', 'sister', 'beautiful', 'fashionable', 'girlfriend']"
   ]
  },
  {
   "cell_type": "code",
   "execution_count": 9,
   "id": "78fb25d9-fc4f-4099-8a53-b46a608602fb",
   "metadata": {},
   "outputs": [],
   "source": [
    "# Define a function to detect gender stereotypes\n",
    "def detect_bias(plot):\n",
    "    plot = plot.lower()\n",
    "    male_roles = sum(1 for word in male_keywords if word in plot)\n",
    "    female_roles = sum(1 for word in female_keywords if word in plot)\n",
    "    if female_roles > male_roles:\n",
    "        return \"⚠️ Potential gender stereotype detected\"\n",
    "    return \"✅ Balanced or male-profession focused\""
   ]
  },
  {
   "cell_type": "code",
   "execution_count": 11,
   "id": "a22e03eb-5b12-418e-95aa-7c3d947088c4",
   "metadata": {},
   "outputs": [],
   "source": [
    "# Apply the rule-based bias detection\n",
    "df['bias_flag'] = df['plot'].apply(detect_bias)"
   ]
  },
  {
   "cell_type": "code",
   "execution_count": 13,
   "id": "ff80d940-473e-4c9d-8807-5e43e3eb99ac",
   "metadata": {},
   "outputs": [
    {
     "data": {
      "text/markdown": [
       "### 🎬 Kaho Naa Pyaar Hai"
      ],
      "text/plain": [
       "<IPython.core.display.Markdown object>"
      ]
     },
     "metadata": {},
     "output_type": "display_data"
    },
    {
     "data": {
      "text/markdown": [
       "**Plot:** Rohit is an aspiring singer who works as a salesman. Sonia is the daughter of Mr. Saxena."
      ],
      "text/plain": [
       "<IPython.core.display.Markdown object>"
      ]
     },
     "metadata": {},
     "output_type": "display_data"
    },
    {
     "data": {
      "text/markdown": [
       "**Bias Check:** ✅ Balanced or male-profession focused"
      ],
      "text/plain": [
       "<IPython.core.display.Markdown object>"
      ]
     },
     "metadata": {},
     "output_type": "display_data"
    },
    {
     "data": {
      "text/markdown": [
       "---"
      ],
      "text/plain": [
       "<IPython.core.display.Markdown object>"
      ]
     },
     "metadata": {},
     "output_type": "display_data"
    },
    {
     "data": {
      "text/markdown": [
       "### 🎬 Chak De India"
      ],
      "text/plain": [
       "<IPython.core.display.Markdown object>"
      ]
     },
     "metadata": {},
     "output_type": "display_data"
    },
    {
     "data": {
      "text/markdown": [
       "**Plot:** Kabir Khan is a former hockey player who now coaches the Indian women's national team."
      ],
      "text/plain": [
       "<IPython.core.display.Markdown object>"
      ]
     },
     "metadata": {},
     "output_type": "display_data"
    },
    {
     "data": {
      "text/markdown": [
       "**Bias Check:** ✅ Balanced or male-profession focused"
      ],
      "text/plain": [
       "<IPython.core.display.Markdown object>"
      ]
     },
     "metadata": {},
     "output_type": "display_data"
    },
    {
     "data": {
      "text/markdown": [
       "---"
      ],
      "text/plain": [
       "<IPython.core.display.Markdown object>"
      ]
     },
     "metadata": {},
     "output_type": "display_data"
    }
   ],
   "source": [
    "# Show Results\n",
    "for index, row in df.iterrows():\n",
    "    display(Markdown(f\"### 🎬 {row['title']}\"))\n",
    "    display(Markdown(f\"**Plot:** {row['plot']}\"))\n",
    "    display(Markdown(f\"**Bias Check:** {row['bias_flag']}\"))\n",
    "    display(Markdown(\"---\"))"
   ]
  },
  {
   "cell_type": "code",
   "execution_count": null,
   "id": "45992958-04ec-4392-9385-bf93b61fb8db",
   "metadata": {},
   "outputs": [],
   "source": []
  }
 ],
 "metadata": {
  "kernelspec": {
   "display_name": "Python 3 (ipykernel)",
   "language": "python",
   "name": "python3"
  },
  "language_info": {
   "codemirror_mode": {
    "name": "ipython",
    "version": 3
   },
   "file_extension": ".py",
   "mimetype": "text/x-python",
   "name": "python",
   "nbconvert_exporter": "python",
   "pygments_lexer": "ipython3",
   "version": "3.12.7"
  }
 },
 "nbformat": 4,
 "nbformat_minor": 5
}
